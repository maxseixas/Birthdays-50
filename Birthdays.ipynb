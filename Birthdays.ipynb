{
 "cells": [
  {
   "cell_type": "code",
   "execution_count": 1,
   "id": "cbc57af8",
   "metadata": {},
   "outputs": [
    {
     "name": "stdout",
     "output_type": "stream",
     "text": [
      "24\n"
     ]
    }
   ],
   "source": [
    "\n",
    "#Problem: find the number of people it takes to have a 50% probability of a common birthday\n",
    "import numpy as np\n",
    "\n",
    "N=1000\n",
    "people=[]\n",
    "\n",
    "for j in range(N):\n",
    "    array=[]\n",
    "    for i in range(100):\n",
    "        bday=np.random.randint(1,365)\n",
    "        array.append(bday)\n",
    "        aset=set(array)\n",
    "        #a set removes all duplicates in an array\n",
    "        if(len(aset) != len(array)):\n",
    "            people.append(i+1)\n",
    "            break\n",
    "\n",
    "#We will now put the set in order, and find the middle value, which will be the minimum number of people to have a 50% probability of common birthdays. \n",
    "people.sort()\n",
    "median=N/2\n",
    "ans=people[int(median)]\n",
    "print(ans)"
   ]
  },
  {
   "cell_type": "code",
   "execution_count": null,
   "id": "1aa46e11",
   "metadata": {},
   "outputs": [],
   "source": []
  }
 ],
 "metadata": {
  "kernelspec": {
   "display_name": "Python 3",
   "language": "python",
   "name": "python3"
  },
  "language_info": {
   "codemirror_mode": {
    "name": "ipython",
    "version": 3
   },
   "file_extension": ".py",
   "mimetype": "text/x-python",
   "name": "python",
   "nbconvert_exporter": "python",
   "pygments_lexer": "ipython3",
   "version": "3.8.8"
  }
 },
 "nbformat": 4,
 "nbformat_minor": 5
}
